{
 "metadata": {
  "language_info": {
   "codemirror_mode": {
    "name": "ipython",
    "version": 3
   },
   "file_extension": ".py",
   "mimetype": "text/x-python",
   "name": "python",
   "nbconvert_exporter": "python",
   "pygments_lexer": "ipython3",
   "version": "3.9.4"
  },
  "orig_nbformat": 4,
  "kernelspec": {
   "name": "python3",
   "display_name": "Python 3.9.4 64-bit ('.venv': venv)"
  },
  "interpreter": {
   "hash": "66e407b830c979702ad8033da673320efe66a1e421b0e732b956b9eedcf7ead2"
  }
 },
 "nbformat": 4,
 "nbformat_minor": 2,
 "cells": [
  {
   "cell_type": "code",
   "execution_count": 98,
   "metadata": {},
   "outputs": [],
   "source": [
    "import numpy as np\n",
    "import networkx as nx\n",
    "import matplotlib.pyplot as plt\n",
    "from pyvis.network import Network"
   ]
  },
  {
   "cell_type": "code",
   "execution_count": 199,
   "metadata": {
    "tags": []
   },
   "outputs": [
    {
     "output_type": "stream",
     "name": "stdout",
     "text": [
      "[('start', '1', '5', '6', 'end'), ('start', '3', '4', '2', 'end')]\n"
     ]
    }
   ],
   "source": [
    "file = \"testfile_3\"\n",
    "\n",
    "nodes = dict()\n",
    "edges = []\n",
    "ant_paths = dict()\n",
    "start_node = None\n",
    "sink_node = None\n",
    "\n",
    "with open(file, \"r\") as f:\n",
    "    prev = None\n",
    "\n",
    "    for line in f:\n",
    "        line = line.strip()\n",
    "        if line == \"\":\n",
    "            break\n",
    "        node_elems = line.split(\" \")\n",
    "        if len(node_elems) == 3:\n",
    "            nodes[node_elems[0]] = (int(node_elems[1]), int(node_elems[2]))\n",
    "            if prev == \"##start\":\n",
    "                start_node = node_elems[0]\n",
    "            elif prev == \"##end\":\n",
    "                sink_node = node_elems[0]\n",
    "        else:\n",
    "            edge_elems = line.split(\"-\")\n",
    "            if len(edge_elems) == 2:\n",
    "                edges.append((edge_elems[0], edge_elems[1]))\n",
    "                edges.append((edge_elems[1], edge_elems[0]))\n",
    "        prev = line\n",
    "\n",
    "    for line in f:\n",
    "        line = line.strip()\n",
    "        moves = line.split(\" \")\n",
    "        for move in moves:\n",
    "            move_elems = move.split(\"-\")\n",
    "            if move_elems[0] not in ant_paths.keys():\n",
    "                ant_paths[move_elems[0]] = [start_node]\n",
    "            ant_paths[move_elems[0]].append(move_elems[1])\n",
    "    \n",
    "#print(ant_paths)\n",
    "paths = ant_paths.values()\n",
    "#print(paths)\n",
    "unique_paths = list(set(tuple(x) for x in paths))\n",
    "print(unique_paths)\n",
    "#print(start_node)\n",
    "#print(sink_node)"
   ]
  },
  {
   "cell_type": "code",
   "execution_count": 200,
   "metadata": {},
   "outputs": [],
   "source": [
    "G = nx.Graph()\n",
    "#G = nx.DiGraph()\n",
    "#print(G.__doc__)"
   ]
  },
  {
   "cell_type": "code",
   "execution_count": 201,
   "metadata": {
    "tags": []
   },
   "outputs": [],
   "source": [
    "G.add_nodes_from(nodes.keys())\n",
    "#print(G.nodes)\n",
    "nx.set_node_attributes(G, nodes, 'pos')\n",
    "#print(G.nodes(data=True))\n",
    "G.add_edges_from(edges)\n",
    "#print(G.edges)"
   ]
  },
  {
   "cell_type": "code",
   "execution_count": 202,
   "metadata": {},
   "outputs": [
    {
     "output_type": "display_data",
     "data": {
      "text/plain": "<Figure size 432x288 with 1 Axes>",
      "image/svg+xml": "<?xml version=\"1.0\" encoding=\"utf-8\" standalone=\"no\"?>\n<!DOCTYPE svg PUBLIC \"-//W3C//DTD SVG 1.1//EN\"\n  \"http://www.w3.org/Graphics/SVG/1.1/DTD/svg11.dtd\">\n<svg height=\"231.84pt\" version=\"1.1\" viewBox=\"0 0 349.2 231.84\" width=\"349.2pt\" xmlns=\"http://www.w3.org/2000/svg\" xmlns:xlink=\"http://www.w3.org/1999/xlink\">\n <metadata>\n  <rdf:RDF xmlns:cc=\"http://creativecommons.org/ns#\" xmlns:dc=\"http://purl.org/dc/elements/1.1/\" xmlns:rdf=\"http://www.w3.org/1999/02/22-rdf-syntax-ns#\">\n   <cc:Work>\n    <dc:type rdf:resource=\"http://purl.org/dc/dcmitype/StillImage\"/>\n    <dc:date>2021-06-23T20:07:20.649967</dc:date>\n    <dc:format>image/svg+xml</dc:format>\n    <dc:creator>\n     <cc:Agent>\n      <dc:title>Matplotlib v3.4.2, https://matplotlib.org/</dc:title>\n     </cc:Agent>\n    </dc:creator>\n   </cc:Work>\n  </rdf:RDF>\n </metadata>\n <defs>\n  <style type=\"text/css\">*{stroke-linecap:butt;stroke-linejoin:round;}</style>\n </defs>\n <g id=\"figure_1\">\n  <g id=\"patch_1\">\n   <path d=\"M 0 231.84 \nL 349.2 231.84 \nL 349.2 0 \nL 0 0 \nz\n\" style=\"fill:#ffffff;\"/>\n  </g>\n  <g id=\"axes_1\">\n   <g id=\"LineCollection_1\">\n    <path clip-path=\"url(#p10d5810d74)\" d=\"M 250.690909 82.974545 \nL 326.781818 148.865455 \n\" style=\"fill:none;stroke:#000000;\"/>\n    <path clip-path=\"url(#p10d5810d74)\" d=\"M 250.690909 82.974545 \nL 174.6 17.083636 \n\" style=\"fill:none;stroke:#000000;\"/>\n    <path clip-path=\"url(#p10d5810d74)\" d=\"M 174.6 17.083636 \nL 174.6 82.974545 \n\" style=\"fill:none;stroke:#000000;\"/>\n    <path clip-path=\"url(#p10d5810d74)\" d=\"M 174.6 214.756364 \nL 22.418182 148.865455 \n\" style=\"fill:none;stroke:#000000;\"/>\n    <path clip-path=\"url(#p10d5810d74)\" d=\"M 174.6 214.756364 \nL 174.6 148.865455 \n\" style=\"fill:none;stroke:#000000;\"/>\n    <path clip-path=\"url(#p10d5810d74)\" d=\"M 326.781818 148.865455 \nL 174.6 148.865455 \n\" style=\"fill:none;stroke:#000000;\"/>\n    <path clip-path=\"url(#p10d5810d74)\" d=\"M 174.6 82.974545 \nL 22.418182 82.974545 \n\" style=\"fill:none;stroke:#000000;\"/>\n    <path clip-path=\"url(#p10d5810d74)\" d=\"M 174.6 82.974545 \nL 174.6 148.865455 \n\" style=\"fill:none;stroke:#000000;\"/>\n    <path clip-path=\"url(#p10d5810d74)\" d=\"M 22.418182 82.974545 \nL 22.418182 148.865455 \n\" style=\"fill:none;stroke:#000000;\"/>\n   </g>\n   <g id=\"PathCollection_1\">\n    <defs>\n     <path d=\"M 0 8.660254 \nC 2.296726 8.660254 4.499694 7.747755 6.123724 6.123724 \nC 7.747755 4.499694 8.660254 2.296726 8.660254 0 \nC 8.660254 -2.296726 7.747755 -4.499694 6.123724 -6.123724 \nC 4.499694 -7.747755 2.296726 -8.660254 0 -8.660254 \nC -2.296726 -8.660254 -4.499694 -7.747755 -6.123724 -6.123724 \nC -7.747755 -4.499694 -8.660254 -2.296726 -8.660254 0 \nC -8.660254 2.296726 -7.747755 4.499694 -6.123724 6.123724 \nC -4.499694 7.747755 -2.296726 8.660254 0 8.660254 \nz\n\" id=\"m297a600f4a\" style=\"stroke:#1f78b4;\"/>\n    </defs>\n    <g clip-path=\"url(#p10d5810d74)\">\n     <use style=\"fill:#1f78b4;stroke:#1f78b4;\" x=\"250.690909\" xlink:href=\"#m297a600f4a\" y=\"82.974545\"/>\n     <use style=\"fill:#1f78b4;stroke:#1f78b4;\" x=\"174.6\" xlink:href=\"#m297a600f4a\" y=\"17.083636\"/>\n     <use style=\"fill:#1f78b4;stroke:#1f78b4;\" x=\"174.6\" xlink:href=\"#m297a600f4a\" y=\"214.756364\"/>\n     <use style=\"fill:#1f78b4;stroke:#1f78b4;\" x=\"326.781818\" xlink:href=\"#m297a600f4a\" y=\"148.865455\"/>\n     <use style=\"fill:#1f78b4;stroke:#1f78b4;\" x=\"174.6\" xlink:href=\"#m297a600f4a\" y=\"82.974545\"/>\n     <use style=\"fill:#1f78b4;stroke:#1f78b4;\" x=\"174.6\" xlink:href=\"#m297a600f4a\" y=\"148.865455\"/>\n     <use style=\"fill:#1f78b4;stroke:#1f78b4;\" x=\"22.418182\" xlink:href=\"#m297a600f4a\" y=\"82.974545\"/>\n     <use style=\"fill:#1f78b4;stroke:#1f78b4;\" x=\"22.418182\" xlink:href=\"#m297a600f4a\" y=\"148.865455\"/>\n    </g>\n   </g>\n   <g id=\"text_1\">\n    <g clip-path=\"url(#p10d5810d74)\">\n     <!-- 3 -->\n     <g transform=\"translate(246.873409 86.285795)scale(0.12 -0.12)\">\n      <defs>\n       <path d=\"M 2597 2516 \nQ 3050 2419 3304 2112 \nQ 3559 1806 3559 1356 \nQ 3559 666 3084 287 \nQ 2609 -91 1734 -91 \nQ 1441 -91 1130 -33 \nQ 819 25 488 141 \nL 488 750 \nQ 750 597 1062 519 \nQ 1375 441 1716 441 \nQ 2309 441 2620 675 \nQ 2931 909 2931 1356 \nQ 2931 1769 2642 2001 \nQ 2353 2234 1838 2234 \nL 1294 2234 \nL 1294 2753 \nL 1863 2753 \nQ 2328 2753 2575 2939 \nQ 2822 3125 2822 3475 \nQ 2822 3834 2567 4026 \nQ 2313 4219 1838 4219 \nQ 1578 4219 1281 4162 \nQ 984 4106 628 3988 \nL 628 4550 \nQ 988 4650 1302 4700 \nQ 1616 4750 1894 4750 \nQ 2613 4750 3031 4423 \nQ 3450 4097 3450 3541 \nQ 3450 3153 3228 2886 \nQ 3006 2619 2597 2516 \nz\n\" id=\"DejaVuSans-33\" transform=\"scale(0.015625)\"/>\n      </defs>\n      <use xlink:href=\"#DejaVuSans-33\"/>\n     </g>\n    </g>\n   </g>\n   <g id=\"text_2\">\n    <g clip-path=\"url(#p10d5810d74)\">\n     <!-- start -->\n     <g transform=\"translate(160.626563 20.394886)scale(0.12 -0.12)\">\n      <defs>\n       <path d=\"M 2834 3397 \nL 2834 2853 \nQ 2591 2978 2328 3040 \nQ 2066 3103 1784 3103 \nQ 1356 3103 1142 2972 \nQ 928 2841 928 2578 \nQ 928 2378 1081 2264 \nQ 1234 2150 1697 2047 \nL 1894 2003 \nQ 2506 1872 2764 1633 \nQ 3022 1394 3022 966 \nQ 3022 478 2636 193 \nQ 2250 -91 1575 -91 \nQ 1294 -91 989 -36 \nQ 684 19 347 128 \nL 347 722 \nQ 666 556 975 473 \nQ 1284 391 1588 391 \nQ 1994 391 2212 530 \nQ 2431 669 2431 922 \nQ 2431 1156 2273 1281 \nQ 2116 1406 1581 1522 \nL 1381 1569 \nQ 847 1681 609 1914 \nQ 372 2147 372 2553 \nQ 372 3047 722 3315 \nQ 1072 3584 1716 3584 \nQ 2034 3584 2315 3537 \nQ 2597 3491 2834 3397 \nz\n\" id=\"DejaVuSans-73\" transform=\"scale(0.015625)\"/>\n       <path d=\"M 1172 4494 \nL 1172 3500 \nL 2356 3500 \nL 2356 3053 \nL 1172 3053 \nL 1172 1153 \nQ 1172 725 1289 603 \nQ 1406 481 1766 481 \nL 2356 481 \nL 2356 0 \nL 1766 0 \nQ 1100 0 847 248 \nQ 594 497 594 1153 \nL 594 3053 \nL 172 3053 \nL 172 3500 \nL 594 3500 \nL 594 4494 \nL 1172 4494 \nz\n\" id=\"DejaVuSans-74\" transform=\"scale(0.015625)\"/>\n       <path d=\"M 2194 1759 \nQ 1497 1759 1228 1600 \nQ 959 1441 959 1056 \nQ 959 750 1161 570 \nQ 1363 391 1709 391 \nQ 2188 391 2477 730 \nQ 2766 1069 2766 1631 \nL 2766 1759 \nL 2194 1759 \nz\nM 3341 1997 \nL 3341 0 \nL 2766 0 \nL 2766 531 \nQ 2569 213 2275 61 \nQ 1981 -91 1556 -91 \nQ 1019 -91 701 211 \nQ 384 513 384 1019 \nQ 384 1609 779 1909 \nQ 1175 2209 1959 2209 \nL 2766 2209 \nL 2766 2266 \nQ 2766 2663 2505 2880 \nQ 2244 3097 1772 3097 \nQ 1472 3097 1187 3025 \nQ 903 2953 641 2809 \nL 641 3341 \nQ 956 3463 1253 3523 \nQ 1550 3584 1831 3584 \nQ 2591 3584 2966 3190 \nQ 3341 2797 3341 1997 \nz\n\" id=\"DejaVuSans-61\" transform=\"scale(0.015625)\"/>\n       <path d=\"M 2631 2963 \nQ 2534 3019 2420 3045 \nQ 2306 3072 2169 3072 \nQ 1681 3072 1420 2755 \nQ 1159 2438 1159 1844 \nL 1159 0 \nL 581 0 \nL 581 3500 \nL 1159 3500 \nL 1159 2956 \nQ 1341 3275 1631 3429 \nQ 1922 3584 2338 3584 \nQ 2397 3584 2469 3576 \nQ 2541 3569 2628 3553 \nL 2631 2963 \nz\n\" id=\"DejaVuSans-72\" transform=\"scale(0.015625)\"/>\n      </defs>\n      <use xlink:href=\"#DejaVuSans-73\"/>\n      <use x=\"52.099609\" xlink:href=\"#DejaVuSans-74\"/>\n      <use x=\"91.308594\" xlink:href=\"#DejaVuSans-61\"/>\n      <use x=\"152.587891\" xlink:href=\"#DejaVuSans-72\"/>\n      <use x=\"193.701172\" xlink:href=\"#DejaVuSans-74\"/>\n     </g>\n    </g>\n   </g>\n   <g id=\"text_3\">\n    <g clip-path=\"url(#p10d5810d74)\">\n     <!-- end -->\n     <g transform=\"translate(163.296563 218.067614)scale(0.12 -0.12)\">\n      <defs>\n       <path d=\"M 3597 1894 \nL 3597 1613 \nL 953 1613 \nQ 991 1019 1311 708 \nQ 1631 397 2203 397 \nQ 2534 397 2845 478 \nQ 3156 559 3463 722 \nL 3463 178 \nQ 3153 47 2828 -22 \nQ 2503 -91 2169 -91 \nQ 1331 -91 842 396 \nQ 353 884 353 1716 \nQ 353 2575 817 3079 \nQ 1281 3584 2069 3584 \nQ 2775 3584 3186 3129 \nQ 3597 2675 3597 1894 \nz\nM 3022 2063 \nQ 3016 2534 2758 2815 \nQ 2500 3097 2075 3097 \nQ 1594 3097 1305 2825 \nQ 1016 2553 972 2059 \nL 3022 2063 \nz\n\" id=\"DejaVuSans-65\" transform=\"scale(0.015625)\"/>\n       <path d=\"M 3513 2113 \nL 3513 0 \nL 2938 0 \nL 2938 2094 \nQ 2938 2591 2744 2837 \nQ 2550 3084 2163 3084 \nQ 1697 3084 1428 2787 \nQ 1159 2491 1159 1978 \nL 1159 0 \nL 581 0 \nL 581 3500 \nL 1159 3500 \nL 1159 2956 \nQ 1366 3272 1645 3428 \nQ 1925 3584 2291 3584 \nQ 2894 3584 3203 3211 \nQ 3513 2838 3513 2113 \nz\n\" id=\"DejaVuSans-6e\" transform=\"scale(0.015625)\"/>\n       <path d=\"M 2906 2969 \nL 2906 4863 \nL 3481 4863 \nL 3481 0 \nL 2906 0 \nL 2906 525 \nQ 2725 213 2448 61 \nQ 2172 -91 1784 -91 \nQ 1150 -91 751 415 \nQ 353 922 353 1747 \nQ 353 2572 751 3078 \nQ 1150 3584 1784 3584 \nQ 2172 3584 2448 3432 \nQ 2725 3281 2906 2969 \nz\nM 947 1747 \nQ 947 1113 1208 752 \nQ 1469 391 1925 391 \nQ 2381 391 2643 752 \nQ 2906 1113 2906 1747 \nQ 2906 2381 2643 2742 \nQ 2381 3103 1925 3103 \nQ 1469 3103 1208 2742 \nQ 947 2381 947 1747 \nz\n\" id=\"DejaVuSans-64\" transform=\"scale(0.015625)\"/>\n      </defs>\n      <use xlink:href=\"#DejaVuSans-65\"/>\n      <use x=\"61.523438\" xlink:href=\"#DejaVuSans-6e\"/>\n      <use x=\"124.902344\" xlink:href=\"#DejaVuSans-64\"/>\n     </g>\n    </g>\n   </g>\n   <g id=\"text_4\">\n    <g clip-path=\"url(#p10d5810d74)\">\n     <!-- 4 -->\n     <g transform=\"translate(322.964318 152.176705)scale(0.12 -0.12)\">\n      <defs>\n       <path d=\"M 2419 4116 \nL 825 1625 \nL 2419 1625 \nL 2419 4116 \nz\nM 2253 4666 \nL 3047 4666 \nL 3047 1625 \nL 3713 1625 \nL 3713 1100 \nL 3047 1100 \nL 3047 0 \nL 2419 0 \nL 2419 1100 \nL 313 1100 \nL 313 1709 \nL 2253 4666 \nz\n\" id=\"DejaVuSans-34\" transform=\"scale(0.015625)\"/>\n      </defs>\n      <use xlink:href=\"#DejaVuSans-34\"/>\n     </g>\n    </g>\n   </g>\n   <g id=\"text_5\">\n    <g clip-path=\"url(#p10d5810d74)\">\n     <!-- 1 -->\n     <g transform=\"translate(170.7825 86.285795)scale(0.12 -0.12)\">\n      <defs>\n       <path d=\"M 794 531 \nL 1825 531 \nL 1825 4091 \nL 703 3866 \nL 703 4441 \nL 1819 4666 \nL 2450 4666 \nL 2450 531 \nL 3481 531 \nL 3481 0 \nL 794 0 \nL 794 531 \nz\n\" id=\"DejaVuSans-31\" transform=\"scale(0.015625)\"/>\n      </defs>\n      <use xlink:href=\"#DejaVuSans-31\"/>\n     </g>\n    </g>\n   </g>\n   <g id=\"text_6\">\n    <g clip-path=\"url(#p10d5810d74)\">\n     <!-- 2 -->\n     <g transform=\"translate(170.7825 152.176705)scale(0.12 -0.12)\">\n      <defs>\n       <path d=\"M 1228 531 \nL 3431 531 \nL 3431 0 \nL 469 0 \nL 469 531 \nQ 828 903 1448 1529 \nQ 2069 2156 2228 2338 \nQ 2531 2678 2651 2914 \nQ 2772 3150 2772 3378 \nQ 2772 3750 2511 3984 \nQ 2250 4219 1831 4219 \nQ 1534 4219 1204 4116 \nQ 875 4013 500 3803 \nL 500 4441 \nQ 881 4594 1212 4672 \nQ 1544 4750 1819 4750 \nQ 2544 4750 2975 4387 \nQ 3406 4025 3406 3419 \nQ 3406 3131 3298 2873 \nQ 3191 2616 2906 2266 \nQ 2828 2175 2409 1742 \nQ 1991 1309 1228 531 \nz\n\" id=\"DejaVuSans-32\" transform=\"scale(0.015625)\"/>\n      </defs>\n      <use xlink:href=\"#DejaVuSans-32\"/>\n     </g>\n    </g>\n   </g>\n   <g id=\"text_7\">\n    <g clip-path=\"url(#p10d5810d74)\">\n     <!-- 5 -->\n     <g transform=\"translate(18.600682 86.285795)scale(0.12 -0.12)\">\n      <defs>\n       <path d=\"M 691 4666 \nL 3169 4666 \nL 3169 4134 \nL 1269 4134 \nL 1269 2991 \nQ 1406 3038 1543 3061 \nQ 1681 3084 1819 3084 \nQ 2600 3084 3056 2656 \nQ 3513 2228 3513 1497 \nQ 3513 744 3044 326 \nQ 2575 -91 1722 -91 \nQ 1428 -91 1123 -41 \nQ 819 9 494 109 \nL 494 744 \nQ 775 591 1075 516 \nQ 1375 441 1709 441 \nQ 2250 441 2565 725 \nQ 2881 1009 2881 1497 \nQ 2881 1984 2565 2268 \nQ 2250 2553 1709 2553 \nQ 1456 2553 1204 2497 \nQ 953 2441 691 2322 \nL 691 4666 \nz\n\" id=\"DejaVuSans-35\" transform=\"scale(0.015625)\"/>\n      </defs>\n      <use xlink:href=\"#DejaVuSans-35\"/>\n     </g>\n    </g>\n   </g>\n   <g id=\"text_8\">\n    <g clip-path=\"url(#p10d5810d74)\">\n     <!-- 6 -->\n     <g transform=\"translate(18.600682 152.176705)scale(0.12 -0.12)\">\n      <defs>\n       <path d=\"M 2113 2584 \nQ 1688 2584 1439 2293 \nQ 1191 2003 1191 1497 \nQ 1191 994 1439 701 \nQ 1688 409 2113 409 \nQ 2538 409 2786 701 \nQ 3034 994 3034 1497 \nQ 3034 2003 2786 2293 \nQ 2538 2584 2113 2584 \nz\nM 3366 4563 \nL 3366 3988 \nQ 3128 4100 2886 4159 \nQ 2644 4219 2406 4219 \nQ 1781 4219 1451 3797 \nQ 1122 3375 1075 2522 \nQ 1259 2794 1537 2939 \nQ 1816 3084 2150 3084 \nQ 2853 3084 3261 2657 \nQ 3669 2231 3669 1497 \nQ 3669 778 3244 343 \nQ 2819 -91 2113 -91 \nQ 1303 -91 875 529 \nQ 447 1150 447 2328 \nQ 447 3434 972 4092 \nQ 1497 4750 2381 4750 \nQ 2619 4750 2861 4703 \nQ 3103 4656 3366 4563 \nz\n\" id=\"DejaVuSans-36\" transform=\"scale(0.015625)\"/>\n      </defs>\n      <use xlink:href=\"#DejaVuSans-36\"/>\n     </g>\n    </g>\n   </g>\n  </g>\n </g>\n <defs>\n  <clipPath id=\"p10d5810d74\">\n   <rect height=\"217.44\" width=\"334.8\" x=\"7.2\" y=\"7.2\"/>\n  </clipPath>\n </defs>\n</svg>\n",
      "image/png": "[encoded data removed]"
     },
     "metadata": {}
    }
   ],
   "source": [
    "plt.gca().invert_yaxis()\n",
    "plt.gca().invert_xaxis()\n",
    "nx.draw(G, nodes, with_labels = True)\n"
   ]
  },
  {
   "cell_type": "code",
   "execution_count": 217,
   "metadata": {
    "tags": []
   },
   "outputs": [
    {
     "output_type": "stream",
     "name": "stdout",
     "text": [
      "{'weight': 1, 'from': '3', 'to': '4', 'color': 'red'}\n{'weight': 1, 'from': '3', 'to': 'start', 'color': 'red'}\n{'weight': 1, 'from': 'start', 'to': '1', 'color': 'red'}\n{'weight': 1, 'from': 'end', 'to': '6', 'color': 'red'}\n{'weight': 1, 'from': 'end', 'to': '2', 'color': 'red'}\n{'weight': 1, 'from': '4', 'to': '2', 'color': 'red'}\n{'weight': 1, 'from': '1', 'to': '5', 'color': 'red'}\n{'weight': 1, 'from': '1', 'to': '2'}\n{'weight': 1, 'from': '5', 'to': '6', 'color': 'red'}\n"
     ]
    },
    {
     "output_type": "execute_result",
     "data": {
      "text/plain": [
       "<IPython.lib.display.IFrame at 0x132eedaf0>"
      ],
      "text/html": "\n        <iframe\n            width=\"500px\"\n            height=\"500px\"\n            src=\"nx.html\"\n            frameborder=\"0\"\n            allowfullscreen\n        ></iframe>\n        "
     },
     "metadata": {},
     "execution_count": 217
    }
   ],
   "source": [
    "nt = Network(notebook=True)\n",
    "nt.from_nx(G)\n",
    "\n",
    "#for node in nt.nodes:\n",
    "#    node['color'] = \"red\"\n",
    "    \n",
    "for path in unique_paths:\n",
    "    for i in range(1, len(path)):\n",
    "        for edge in nt.edges:\n",
    "            #print(path[i - 1], \" \", path[i])\n",
    "            #print(edge[\"from\"], \" \", edge[\"to\"])\n",
    "            #print(\" \")\n",
    "            if (edge[\"from\"] == path[i - 1] and edge[\"to\"] == path[i]) \\\n",
    "            or (edge[\"to\"] == path[i - 1] and edge[\"from\"] == path[i]):\n",
    "                edge[\"color\"] = \"red\"\n",
    "            #    print(\"found\", edge[\"from\"], \" \", edge[\"to\"])\n",
    "\n",
    "#print(nt.edges[0])\n",
    "\n",
    "for edge in nt.edges:\n",
    "    print(edge)\n",
    "\n",
    "nt.show_buttons(filter_=['physics'])\n",
    "nt.show(\"nx.html\")\n"
   ]
  },
  {
   "cell_type": "code",
   "execution_count": null,
   "metadata": {},
   "outputs": [],
   "source": []
  }
 ]
}